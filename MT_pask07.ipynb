{
 "cells": [
  {
   "cell_type": "code",
   "execution_count": 2,
   "metadata": {
    "ExecuteTime": {
     "end_time": "2018-10-16T12:49:33.308276Z",
     "start_time": "2018-10-16T12:49:33.303538Z"
    }
   },
   "outputs": [],
   "source": [
    "import numpy as np\n",
    "import matplotlib.pyplot as plt\n",
    "import scipy as sc\n"
   ]
  },
  {
   "cell_type": "markdown",
   "metadata": {},
   "source": [
    "Skaitmeniniu bootstrapping metodu nustatykite ir pavaizduokite prediction ir confidence intervalus tiesiniam saryšiui y = k * x + b ties x = 30, kai matavimų duomenys yra nuo x_min = 0 iki x_max = 20.\n"
   ]
  },
  {
   "cell_type": "code",
   "execution_count": 60,
   "metadata": {
    "ExecuteTime": {
     "end_time": "2018-10-16T13:10:01.155447Z",
     "start_time": "2018-10-16T13:10:01.148067Z"
    }
   },
   "outputs": [
    {
     "data": {
      "text/plain": [
       "(array([ 4.67630458, 14.55164536,  8.20799055,  9.6438544 ,  4.67931891,\n",
       "        12.76481957, 14.31580101, 12.98650882, 14.99285942,  9.32564261,\n",
       "        16.12485166,  6.05082572, 15.18576186, 16.99359776, 14.78497335,\n",
       "        18.44658922, 15.10483959, 15.19660964, 17.01289758, 20.97154703,\n",
       "        24.10613847, 23.78754903, 28.60974139, 30.13378286, 19.08310554,\n",
       "        17.56234865, 19.14156755, 22.65962813, 29.02239358, 18.81182639,\n",
       "        26.31591043, 14.42329639, 25.55429474, 21.0812361 , 26.468912  ,\n",
       "        34.1034114 , 34.01097606, 27.12445279, 22.61225497, 34.57636464,\n",
       "        29.81582002, 33.70268426, 30.38719499, 31.76985619, 21.7983566 ,\n",
       "        45.42422229, 37.49722204, 28.77223711, 40.38364141, 32.60181965,\n",
       "        36.06142248, 36.63642214, 44.04157028, 38.61925086, 33.58717797,\n",
       "        35.13403923, 45.66874213, 36.93225362, 40.75297106, 41.76294996,\n",
       "        40.48134376, 42.63749695, 42.39431961, 39.31553718, 42.89548138,\n",
       "        43.61944479, 41.11101847, 54.73209719, 52.26357394, 50.41538835,\n",
       "        53.97368034, 53.74423461, 51.10989271, 52.99806104, 45.13926903,\n",
       "        54.06137101, 44.33827071, 53.65244685, 60.30488727, 51.67469226,\n",
       "        49.76612647, 60.5161525 , 58.87016368, 60.8537627 , 51.57028843,\n",
       "        47.99969212, 51.08943884, 60.9570488 , 54.16838456, 64.20422646,\n",
       "        62.22882309, 63.18354626, 61.35806573, 60.44245505, 68.37286936,\n",
       "        69.36871592, 70.05083085, 56.16921154, 61.21778075, 74.35295914]),\n",
       " array([ 0.        ,  0.2020202 ,  0.4040404 ,  0.60606061,  0.80808081,\n",
       "         1.01010101,  1.21212121,  1.41414141,  1.61616162,  1.81818182,\n",
       "         2.02020202,  2.22222222,  2.42424242,  2.62626263,  2.82828283,\n",
       "         3.03030303,  3.23232323,  3.43434343,  3.63636364,  3.83838384,\n",
       "         4.04040404,  4.24242424,  4.44444444,  4.64646465,  4.84848485,\n",
       "         5.05050505,  5.25252525,  5.45454545,  5.65656566,  5.85858586,\n",
       "         6.06060606,  6.26262626,  6.46464646,  6.66666667,  6.86868687,\n",
       "         7.07070707,  7.27272727,  7.47474747,  7.67676768,  7.87878788,\n",
       "         8.08080808,  8.28282828,  8.48484848,  8.68686869,  8.88888889,\n",
       "         9.09090909,  9.29292929,  9.49494949,  9.6969697 ,  9.8989899 ,\n",
       "        10.1010101 , 10.3030303 , 10.50505051, 10.70707071, 10.90909091,\n",
       "        11.11111111, 11.31313131, 11.51515152, 11.71717172, 11.91919192,\n",
       "        12.12121212, 12.32323232, 12.52525253, 12.72727273, 12.92929293,\n",
       "        13.13131313, 13.33333333, 13.53535354, 13.73737374, 13.93939394,\n",
       "        14.14141414, 14.34343434, 14.54545455, 14.74747475, 14.94949495,\n",
       "        15.15151515, 15.35353535, 15.55555556, 15.75757576, 15.95959596,\n",
       "        16.16161616, 16.36363636, 16.56565657, 16.76767677, 16.96969697,\n",
       "        17.17171717, 17.37373737, 17.57575758, 17.77777778, 17.97979798,\n",
       "        18.18181818, 18.38383838, 18.58585859, 18.78787879, 18.98989899,\n",
       "        19.19191919, 19.39393939, 19.5959596 , 19.7979798 , 20.        ]))"
      ]
     },
     "execution_count": 60,
     "metadata": {},
     "output_type": "execute_result"
    }
   ],
   "source": [
    "x_min = 0\n",
    "x_max = 20\n",
    "npoints = 100\n",
    "kt = 1.5\n",
    "bt = 3.\n",
    "\n",
    "x = np.linspace(x_min, x_max, npoints)\n",
    "\n",
    "y = kt * x + bt + np.random.normal(kt * x + bt, 5, npoints)\n",
    "y, x"
   ]
  },
  {
   "cell_type": "code",
   "execution_count": 51,
   "metadata": {
    "ExecuteTime": {
     "end_time": "2018-10-16T13:01:33.303248Z",
     "start_time": "2018-10-16T13:01:33.170999Z"
    }
   },
   "outputs": [
    {
     "data": {
      "text/plain": [
       "<matplotlib.collections.PathCollection at 0x7f7c346a8860>"
      ]
     },
     "execution_count": 51,
     "metadata": {},
     "output_type": "execute_result"
    },
    {
     "data": {
      "image/png": "[encoded data removed]",
      "text/plain": [
       "<Figure size 432x288 with 1 Axes>"
      ]
     },
     "metadata": {
      "needs_background": "light"
     },
     "output_type": "display_data"
    }
   ],
   "source": [
    "plt.scatter(x, y)"
   ]
  },
  {
   "cell_type": "code",
   "execution_count": 63,
   "metadata": {
    "ExecuteTime": {
     "end_time": "2018-10-16T13:11:06.643552Z",
     "start_time": "2018-10-16T13:11:06.640720Z"
    }
   },
   "outputs": [],
   "source": [
    "def bootstrap(x_data, y_data, npoints):\n",
    "    ind = np.random.randint(0,npoints, npoints)\n",
    "    k_boot, b_boot = np.polyfit(x_data[ind], y_data[ind], 1)\n",
    "    return k_boot, b_boot\n"
   ]
  },
  {
   "cell_type": "code",
   "execution_count": 65,
   "metadata": {
    "ExecuteTime": {
     "end_time": "2018-10-16T13:11:12.476194Z",
     "start_time": "2018-10-16T13:11:12.408740Z"
    }
   },
   "outputs": [],
   "source": [
    "N_boot = 100\n",
    "K_boot = np.zeros(N_boot)\n",
    "B_boot = np.zeros(N_boot)\n",
    "for i in range(N_boot):\n",
    "    K_boot[i], B_boot[i] = bootstrap(x, y, npoints)\n",
    "    \n",
    "    "
   ]
  },
  {
   "cell_type": "code",
   "execution_count": 72,
   "metadata": {
    "ExecuteTime": {
     "end_time": "2018-10-16T13:14:14.704798Z",
     "start_time": "2018-10-16T13:14:14.394306Z"
    }
   },
   "outputs": [
    {
     "data": {
      "image/png": "[encoded data removed]",
      "text/plain": [
       "<Figure size 432x288 with 1 Axes>"
      ]
     },
     "metadata": {
      "needs_background": "light"
     },
     "output_type": "display_data"
    }
   ],
   "source": [
    "x_new = np.linspace(0,30, 150)\n",
    "for i in range(N_boot):\n",
    "    y_boot = K_boot[i]*x_new + B_boot[i]\n",
    "    plt.plot(x_new, y_boot, color='k', alpha=0.05)\n"
   ]
  }
 ],
 "metadata": {
  "hide_input": false,
  "kernelspec": {
   "display_name": "Python 3",
   "language": "python",
   "name": "python3"
  },
  "language_info": {
   "codemirror_mode": {
    "name": "ipython",
    "version": 3
   },
   "file_extension": ".py",
   "mimetype": "text/x-python",
   "name": "python",
   "nbconvert_exporter": "python",
   "pygments_lexer": "ipython3",
   "version": "3.6.6"
  },
  "latex_envs": {
   "LaTeX_envs_menu_present": true,
   "autoclose": false,
   "autocomplete": true,
   "bibliofile": "biblio.bib",
   "cite_by": "apalike",
   "current_citInitial": 1,
   "eqLabelWithNumbers": true,
   "eqNumInitial": 1,
   "hotkeys": {
    "equation": "Ctrl-E",
    "itemize": "Ctrl-I"
   },
   "labels_anchors": false,
   "latex_user_defs": false,
   "report_style_numbering": false,
   "user_envs_cfg": false
  },
  "toc": {
   "base_numbering": 1,
   "nav_menu": {},
   "number_sections": true,
   "sideBar": true,
   "skip_h1_title": false,
   "title_cell": "Table of Contents",
   "title_sidebar": "Contents",
   "toc_cell": false,
   "toc_position": {},
   "toc_section_display": true,
   "toc_window_display": false
  },
  "varInspector": {
   "cols": {
    "lenName": 16,
    "lenType": 16,
    "lenVar": 40
   },
   "kernels_config": {
    "python": {
     "delete_cmd_postfix": "",
     "delete_cmd_prefix": "del ",
     "library": "var_list.py",
     "varRefreshCmd": "print(var_dic_list())"
    },
    "r": {
     "delete_cmd_postfix": ") ",
     "delete_cmd_prefix": "rm(",
     "library": "var_list.r",
     "varRefreshCmd": "cat(var_dic_list()) "
    }
   },
   "types_to_exclude": [
    "module",
    "function",
    "builtin_function_or_method",
    "instance",
    "_Feature"
   ],
   "window_display": false
  }
 },
 "nbformat": 4,
 "nbformat_minor": 2
}
